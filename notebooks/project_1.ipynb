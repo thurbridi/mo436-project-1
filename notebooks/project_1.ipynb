{
 "cells": [
  {
   "cell_type": "markdown",
   "metadata": {},
   "source": [
    "# Project 1 - Reinforcement Learning - MO436"
   ]
  },
  {
   "cell_type": "markdown",
   "metadata": {},
   "source": [
    "#### Group: Arthur Guazzelli, Elian Laura, Iury Cleveston, Maria Tejada"
   ]
  },
  {
   "cell_type": "markdown",
   "metadata": {},
   "source": [
    "## 1) Environment Description"
   ]
  },
  {
   "cell_type": "markdown",
   "metadata": {},
   "source": [
    "In this project, we used the FrozenLake 8x8 environment from OpenAi Gym. This environment is represented as a grid with 8x8 tiles, where the goal is to cross the entire board without falling into ice holes. Frozen Lake is an episodic environment, where the initial state (S) is in the top-left position, and the terminal states are either the ice holes (H) or the final goal in the bottom-right tile (G). The ice holes are spread across the board, and the agent should find a path to the goal through frozen tiles (F); the reward of value of 1 is only given at this point.\n",
    "\n",
    "<br>\n",
    "<div>\n",
    "<center><img src=\"board.png\" width=\"100\"/></center>\n",
    "<center>Figure 1 - Frozen Lake Grid.</center>\n",
    "</div>\n",
    "\n",
    "\n",
    "The current state is represented as a single number corresponding to the tile where the agent has entered, ranging from 0 to 63; therefore, this environment is discrete and partial observable. The possible actions are moving north, east, south, and west. Frozen Lake is presented in a deterministic and stochastic way; the difference is in the slippery ice, where the agent might slip and reach an unexpected state.\n",
    "\n",
    "The ice holes are close to feasible paths to the goal; also, the reward is delayed until the end. These characteristics make Frozen Lake a challenging environment, especially in the stochastic version, where the dynamics are unpredictable.\n",
    "\n",
    "Codes are available at https://github.com/thurbridi/mo436-project-1"
   ]
  },
  {
   "cell_type": "code",
   "execution_count": 1,
   "metadata": {
    "deletable": false,
    "editable": false
   },
   "outputs": [],
   "source": [
    "import sys\n",
    "sys.path.insert(0, '../src')"
   ]
  },
  {
   "cell_type": "markdown",
   "metadata": {
    "deletable": false,
    "editable": false
   },
   "source": [
    "## 2) Monte Carlo Control (iury)"
   ]
  },
  {
   "cell_type": "markdown",
   "metadata": {
    "deletable": false,
    "editable": false
   },
   "source": [
    "The Monte Carlo Agent was initialized with the state-action values $Q(s, a)$ equal to 0. We employed a step-size $\\alpha_{t} = \\frac{1}{N(s_{t},a_{t})}$, where $N(s_{t},a_{t})$ refers to the number of times action $a$ was selected from the state $s$.\n",
    "\n",
    "The trade-off between exploration and exploitation was determined by an $\\epsilon-greedy$ policy, where $\\epsilon_{t} = \\frac{N0}{N0+N(s_{t})}$; $N0$ is an hyperparameter, and $N(s_{t})$ is the number of times the state $s$ has been visited. \n",
    "\n",
    "In this project, we implemented two versions: tabular and linear approximation. Also, we searched for the best parameters using grid search, and we evaluated the solutions in the deterministic and stochastic environment.\n",
    "\n",
    "The equation used for tabular Monte Carlo improvement is:\n",
    "\n",
    "$Q(s,a) = Q(s,a) + \\frac{1}{N(s,a)}(G_{t} - Q(s,a))$,\n",
    "\n",
    "where $G_{t} = \\sum \\gamma^{T-1}R_{k,T}$, and $N(s,a) = N(s,a) + 1$\n",
    "\n",
    "For policy evaluation, we used:\n",
    "\n",
    "$\\pi(s) = \\mathrm{argmax} Q(s,a)$,"
   ]
  },
  {
   "cell_type": "code",
   "execution_count": 2,
   "metadata": {
    "deletable": false,
    "editable": false
   },
   "outputs": [],
   "source": [
    "from monte_carlo_tabular import *\n",
    "from monte_carlo_approximator import *"
   ]
  },
  {
   "cell_type": "markdown",
   "metadata": {
    "deletable": false,
    "editable": false
   },
   "source": [
    "### 2.1) Tabular & Deterministic"
   ]
  },
  {
   "cell_type": "markdown",
   "metadata": {
    "deletable": false,
    "editable": false
   },
   "source": [
    "The first experiment consisted in applying the Monte Carlo First Visit in the tabular and deterministic environment. Therefore, we used a grid search technique to find the best solution given the parameters defined as:\n",
    "\n",
    "$\\mathrm{N0} \\in [0.1, 1, 10]$,\n",
    "\n",
    "$\\mathrm{gamma} \\in [1, 0.9, 0.5, 0.1]$,\n",
    "\n",
    "$\\mathrm{episodes} \\in [100, 1000]$\n"
   ]
  },
  {
   "cell_type": "code",
   "execution_count": 3,
   "metadata": {
    "deletable": false,
    "editable": false
   },
   "outputs": [
    {
     "name": "stdout",
     "output_type": "stream",
     "text": [
      "      n0  gamma  episodes  win/loss (%)  elapsed time (s)\n",
      "0    0.1    1.0     100.0         100.0          0.226304\n",
      "1    1.0    1.0     100.0         100.0          0.189473\n",
      "2   10.0    1.0     100.0           2.0          0.072398\n",
      "3    0.1    0.9     100.0         100.0          0.126679\n",
      "4    1.0    0.9     100.0         100.0          0.124684\n",
      "5   10.0    0.9     100.0           2.0          0.089683\n",
      "6    0.1    0.5     100.0         100.0          0.145805\n",
      "7    1.0    0.5     100.0         100.0          0.095972\n",
      "8   10.0    0.5     100.0           2.0          0.069440\n",
      "9    0.1    0.1     100.0         100.0          0.108018\n",
      "10   1.0    0.1     100.0         100.0          0.075810\n",
      "11  10.0    0.1     100.0           2.0          0.064267\n",
      "12   0.1    1.0    1000.0         100.0          0.421142\n",
      "13   1.0    1.0    1000.0         100.0          0.392267\n",
      "14  10.0    1.0    1000.0         100.0          1.148584\n",
      "15   0.1    0.9    1000.0         100.0          0.294481\n",
      "16   1.0    0.9    1000.0         100.0          0.284455\n",
      "17  10.0    0.9    1000.0         100.0          0.335180\n",
      "18   0.1    0.5    1000.0         100.0          0.339937\n",
      "19   1.0    0.5    1000.0         100.0          0.270930\n",
      "20  10.0    0.5    1000.0         100.0          0.279343\n",
      "21   0.1    0.1    1000.0         100.0          0.297840\n",
      "22   1.0    0.1    1000.0         100.0          0.265978\n",
      "23  10.0    0.1    1000.0         100.0          0.261827\n"
     ]
    }
   ],
   "source": [
    "grid_search_tabular(stochastic=False)"
   ]
  },
  {
   "cell_type": "markdown",
   "metadata": {},
   "source": [
    "In this experiment, we varied the $N0$, gamma, and episodes. The win/loss metric is defined as the percentage of wins from 100 games plays; the majority of executions returned 100\\% of wins. Only the executions with $N0=10$ and with 100 episodes could not achieved maximum success, due to the excessive exploration. The elapsed time presented a consistent correlation with the number of episodes.\n",
    "\n",
    "We selected the execution number 4 to be analyzed in detail as follows:"
   ]
  },
  {
   "cell_type": "code",
   "execution_count": 5,
   "metadata": {
    "scrolled": true
   },
   "outputs": [
    {
     "data": {
      "image/png": "[encoded data removed]",
      "text/plain": [
       "<Figure size 432x288 with 1 Axes>"
      ]
     },
     "metadata": {
      "needs_background": "light"
     },
     "output_type": "display_data"
    }
   ],
   "source": [
    "Q, env = train_tabular(stochastic=False, episodes=100, gamma=0.9, n0=1)"
   ]
  },
  {
   "cell_type": "markdown",
   "metadata": {},
   "source": [
    "The cumulative discounted reward (G) by episode increased during training; the average variance has also decreased, which means the agent is learning a good policy. The exploration rate is initially set as $N0=1$; however, as the training continues, the states are being visited, and the agent started to select greedy actions, contributing to the cumulative reward's variance decrease in the end. \n",
    "\n",
    "The final board is shown below, where the agent was able to reach its goal:"
   ]
  },
  {
   "cell_type": "code",
   "execution_count": 13,
   "metadata": {
    "deletable": false,
    "editable": false
   },
   "outputs": [
    {
     "name": "stdout",
     "output_type": "stream",
     "text": [
      "  (Down)\n",
      "SFFFFFFF\n",
      "FFFFFFFF\n",
      "FFFHFFFF\n",
      "FFFFFHFF\n",
      "FFFHFFFF\n",
      "FHHFFFHF\n",
      "FHFFHFHF\n",
      "FFFHFFF\u001b[41mG\u001b[0m\n"
     ]
    }
   ],
   "source": [
    "env.render()"
   ]
  },
  {
   "cell_type": "markdown",
   "metadata": {
    "deletable": false,
    "editable": false
   },
   "source": [
    "We also reported the best state value ($V_*$) and the best policy ($\\pi_*$), as follows:"
   ]
  },
  {
   "cell_type": "code",
   "execution_count": 14,
   "metadata": {
    "deletable": false,
    "editable": false
   },
   "outputs": [
    {
     "name": "stdout",
     "output_type": "stream",
     "text": [
      "\n",
      "\t\t State Value\n",
      "------------------------------------------------\n",
      " 0.11| 0.14| 0.00| 0.22| 0.26| 0.30| 0.00| 0.00|\n",
      "------------------------------------------------\n",
      " 0.00| 0.14| 0.17| 0.20| 0.09| 0.37| 0.41| 0.04|\n",
      "------------------------------------------------\n",
      " 0.00| 0.03| 0.03| 0.00| 0.24| 0.05| 0.49| 0.56|\n",
      "------------------------------------------------\n",
      " 0.00| 0.00| 0.00| 0.00| 0.00| 0.00| 0.22| 0.60|\n",
      "------------------------------------------------\n",
      " 0.00| 0.00| 0.00| 0.00| 0.00| 0.00| 0.18| 0.74|\n",
      "------------------------------------------------\n",
      " 0.00| 0.00| 0.00| 0.00| 0.00| 0.00| 0.00| 0.86|\n",
      "------------------------------------------------\n",
      " 0.00| 0.00| 0.00| 0.00| 0.00| 0.00| 0.00| 1.00|\n",
      "------------------------------------------------\n",
      " 0.00| 0.00| 0.00| 0.00| 0.00| 0.00| 0.00| 0.00|\n",
      "------------------------------------------------\n"
     ]
    }
   ],
   "source": [
    "print_state_values_tabular(Q)"
   ]
  },
  {
   "cell_type": "code",
   "execution_count": 15,
   "metadata": {
    "deletable": false,
    "editable": false
   },
   "outputs": [
    {
     "name": "stdout",
     "output_type": "stream",
     "text": [
      "\n",
      "\t\t Policy/Actions\n",
      "------------------------------------------------\n",
      "  r  |  s  |  r  |  r  |  r  |  s  |  l  |  s  |\n",
      "------------------------------------------------\n",
      "  r  |  r  |  r  |  n  |  s  |  r  |  s  |  r  |\n",
      "------------------------------------------------\n",
      "  s  |  r  |  n  |  l  |  r  |  r  |  r  |  s  |\n",
      "------------------------------------------------\n",
      "  n  |  s  |  r  |  l  |  l  |  n  |  s  |  s  |\n",
      "------------------------------------------------\n",
      "  n  |  r  |  s  |  l  |  r  |  r  |  r  |  s  |\n",
      "------------------------------------------------\n",
      "  s  |  n  |  r  |  l  |  n  |  l  |  s  |  s  |\n",
      "------------------------------------------------\n",
      "  r  |  l  |  n  |  s  |  n  |  r  |  l  |  s  |\n",
      "------------------------------------------------\n",
      "  l  |  s  |  s  |  r  |  s  |  l  |  l  |  n  |\n",
      "------------------------------------------------\n"
     ]
    }
   ],
   "source": [
    "print_policy_tabular(Q)"
   ]
  },
  {
   "cell_type": "markdown",
   "metadata": {
    "deletable": false,
    "editable": false
   },
   "source": [
    "The policy is shown by state, where the greedy actions can be:\n",
    "<ul>\n",
    "    <li>n - north</li>\n",
    "    <li>r - right</li>\n",
    "    <li>s - south</li>\n",
    "    <li>l - left</li>\n",
    "</ul>\n",
    "\n",
    "Observing the $V_*$ plot and the best policy $\\pi_*$, we noted that the agent preferred to explore the top-right quadrant of the grid, mainly because the path seems less risky. In this sense, most of the actions are to go right and then south. The cumulative return (G) is appropriately assigned to the trajectory, being larger in the goal state, and decreasing its value until the initial state."
   ]
  },
  {
   "cell_type": "markdown",
   "metadata": {
    "deletable": false,
    "editable": false
   },
   "source": [
    "### 2.2) Tabular & Stochastic"
   ]
  },
  {
   "cell_type": "markdown",
   "metadata": {
    "deletable": false,
    "editable": false
   },
   "source": [
    "The second experiment employed the same methodology as the first one. In this case, we turned on the environment slippery, which adds stochasticity. Similarly, we searched for the best solution using the grid search algorithm using the following parameters:\n",
    "\n",
    "$\\mathrm{N0} \\in [1, 100, 1000, 10000]$,\n",
    "\n",
    "$\\mathrm{gamma} \\in [1, 0.9, 0.1]$,\n",
    "\n",
    "$\\mathrm{episodes} \\in [10000, 100000]$"
   ]
  },
  {
   "cell_type": "markdown",
   "metadata": {
    "deletable": false,
    "editable": false
   },
   "source": [
    "This time we increased the number of episodes and the $N0$ constant to enable more exploration in the environment."
   ]
  },
  {
   "cell_type": "code",
   "execution_count": 16,
   "metadata": {
    "deletable": false,
    "editable": false
   },
   "outputs": [
    {
     "name": "stdout",
     "output_type": "stream",
     "text": [
      "         n0  gamma  episodes  win/loss (%)  elapsed time (s)\n",
      "0       1.0    1.0   10000.0           7.0          5.432594\n",
      "1     100.0    1.0   10000.0          28.0          7.623629\n",
      "2    1000.0    1.0   10000.0          55.0          9.491570\n",
      "3   10000.0    1.0   10000.0          36.0         12.016099\n",
      "4       1.0    0.9   10000.0           1.0          5.742304\n",
      "5     100.0    0.9   10000.0          12.0          8.934242\n",
      "6    1000.0    0.9   10000.0          43.0          9.263228\n",
      "7   10000.0    0.9   10000.0           2.0         10.051708\n",
      "8       1.0    0.1   10000.0           4.0          7.212385\n",
      "9     100.0    0.1   10000.0           0.0          8.766804\n",
      "10   1000.0    0.1   10000.0           1.0         11.912093\n",
      "11  10000.0    0.1   10000.0           2.0          9.833791\n",
      "12      1.0    1.0  100000.0          13.0         63.864103\n",
      "13    100.0    1.0  100000.0          26.0         96.923429\n",
      "14   1000.0    1.0  100000.0          60.0        128.208909\n",
      "15  10000.0    1.0  100000.0          53.0        151.927949\n",
      "16      1.0    0.9  100000.0           5.0         44.051018\n",
      "17    100.0    0.9  100000.0          14.0         64.966595\n",
      "18   1000.0    0.9  100000.0          53.0        116.065208\n",
      "19  10000.0    0.9  100000.0          37.0         94.986223\n",
      "20      1.0    0.1  100000.0           3.0         77.387585\n",
      "21    100.0    0.1  100000.0           3.0         99.011985\n",
      "22   1000.0    0.1  100000.0           3.0         75.076992\n",
      "23  10000.0    0.1  100000.0           6.0         83.765707\n"
     ]
    }
   ],
   "source": [
    "grid_search_tabular(stochastic=True)"
   ]
  },
  {
   "cell_type": "markdown",
   "metadata": {},
   "source": [
    "However, when the environment is stochastic, the agent has enormous difficulties in learning a good policy. Half of the executions returned a success rate inferior to 10\\%. Nevertheless, the other executions were promising, especially the numbers 14 and 2, with win rates of 60\\% and 55\\%, respectively. The elapsed time has dramatically increased, primarily due to the increase in the number of episodes. The best solution was achieved by providing intermediate exploration with $N0=1000$. Also, the discount factor significantly impacted the win rate; the best results were achieved using a rate greater than 0.9.\n",
    "\n",
    "Now, we will analyze the solution number 2:"
   ]
  },
  {
   "cell_type": "code",
   "execution_count": 6,
   "metadata": {},
   "outputs": [
    {
     "data": {
      "image/png": "[encoded data removed]",
      "text/plain": [
       "<Figure size 432x288 with 1 Axes>"
      ]
     },
     "metadata": {
      "needs_background": "light"
     },
     "output_type": "display_data"
    }
   ],
   "source": [
    "Q, env = train_tabular(stochastic=True, episodes=10000, gamma=1, n0=1000)"
   ]
  },
  {
   "cell_type": "markdown",
   "metadata": {},
   "source": [
    "The cumulative discounted reward has a large variance due to the stochasticity. However, the agent can reach the goal state most of the time; as the training proceeds, the agent retrieves more rewards. Due to the unknown dynamics, the agent falls into the ice holes more frequently, even when selecting the appropriate action, as shown below:"
   ]
  },
  {
   "cell_type": "code",
   "execution_count": 10,
   "metadata": {
    "deletable": false,
    "editable": false
   },
   "outputs": [
    {
     "name": "stdout",
     "output_type": "stream",
     "text": [
      "  (Down)\n",
      "SFFFFFFF\n",
      "FFFFFFFF\n",
      "FFF\u001b[41mH\u001b[0mFFFF\n",
      "FFFFFHFF\n",
      "FFFHFFFF\n",
      "FHHFFFHF\n",
      "FHFFHFHF\n",
      "FFFHFFFG\n"
     ]
    }
   ],
   "source": [
    "env.render()"
   ]
  },
  {
   "cell_type": "markdown",
   "metadata": {},
   "source": [
    "Following our methodology, we plot the state value ($V_*$) and the derived policy $\\pi_*$."
   ]
  },
  {
   "cell_type": "code",
   "execution_count": 7,
   "metadata": {},
   "outputs": [
    {
     "name": "stdout",
     "output_type": "stream",
     "text": [
      "\n",
      "\t\t State Value\n",
      "------------------------------------------------\n",
      " 0.05| 0.06| 0.06| 0.08| 0.08| 0.10| 0.14| 0.12|\n",
      "------------------------------------------------\n",
      " 0.05| 0.07| 0.06| 0.07| 0.08| 0.10| 0.11| 0.13|\n",
      "------------------------------------------------\n",
      " 0.02| 0.01| 0.02| 0.00| 0.05| 0.06| 0.14| 0.14|\n",
      "------------------------------------------------\n",
      " 0.01| 0.01| 0.00| 0.00| 0.01| 0.00| 0.14| 0.17|\n",
      "------------------------------------------------\n",
      " 0.00| 0.00| 0.00| 0.00| 0.01| 0.07| 0.15| 0.23|\n",
      "------------------------------------------------\n",
      " 0.01| 0.00| 0.00| 0.00| 0.00| 0.05| 0.00| 0.35|\n",
      "------------------------------------------------\n",
      " 0.00| 0.00| 0.00| 0.00| 0.00| 0.04| 0.00| 0.59|\n",
      "------------------------------------------------\n",
      " 0.00| 0.00| 0.00| 0.00| 0.25| 0.25| 0.50| 0.00|\n",
      "------------------------------------------------\n"
     ]
    }
   ],
   "source": [
    "print_state_values_tabular(Q)"
   ]
  },
  {
   "cell_type": "code",
   "execution_count": 8,
   "metadata": {},
   "outputs": [
    {
     "name": "stdout",
     "output_type": "stream",
     "text": [
      "\n",
      "\t\t Policy/Actions\n",
      "------------------------------------------------\n",
      "  n  |  r  |  s  |  r  |  n  |  r  |  r  |  r  |\n",
      "------------------------------------------------\n",
      "  n  |  n  |  n  |  n  |  r  |  n  |  s  |  l  |\n",
      "------------------------------------------------\n",
      "  r  |  r  |  n  |  l  |  n  |  r  |  r  |  s  |\n",
      "------------------------------------------------\n",
      "  n  |  n  |  l  |  r  |  r  |  n  |  r  |  s  |\n",
      "------------------------------------------------\n",
      "  l  |  l  |  l  |  l  |  n  |  s  |  n  |  r  |\n",
      "------------------------------------------------\n",
      "  l  |  n  |  r  |  s  |  s  |  r  |  s  |  r  |\n",
      "------------------------------------------------\n",
      "  s  |  s  |  r  |  n  |  n  |  s  |  n  |  r  |\n",
      "------------------------------------------------\n",
      "  r  |  l  |  r  |  s  |  s  |  n  |  s  |  s  |\n",
      "------------------------------------------------\n"
     ]
    }
   ],
   "source": [
    "print_policy_tabular(Q)"
   ]
  },
  {
   "cell_type": "markdown",
   "metadata": {},
   "source": [
    "The state value was properly determined; it increases as the agent approaches the goal state. However, a curious behavior has emerged; the agent attempts to stay close to the game's border most of the time. Also, the actions are chosen to exploit the stochastic dynamics of the environment, like going right instead of south. The policy makes the agent avoid the holes in the first place while expecting to reach the desired state through the game's stochasticity. Further, in the stochastic version, the agent has found alternative paths to the goal."
   ]
  },
  {
   "cell_type": "markdown",
   "metadata": {},
   "source": [
    "### 2.3) Linear Function Approximation & Deterministic"
   ]
  },
  {
   "cell_type": "markdown",
   "metadata": {},
   "source": [
    "The third experiment consisted of applying a linear function approximator to avoid a complete state representation. In this sense, we aim to generalize to unseen states by using a linear combination of features, given as:"
   ]
  },
  {
   "cell_type": "markdown",
   "metadata": {},
   "source": [
    "$w = w + \\alpha_{t}[(G_{t} - x(S)^Tw)x(S)]$\n",
    "\n",
    "$x(S) = RBFSampler(S)$"
   ]
  },
  {
   "cell_type": "markdown",
   "metadata": {},
   "source": [
    "The RBFSampler is implemented to generate a state-action representation of the entire grid. Therefore, we uniformly sampled 30,000 state-action pairs of the Frozen Lake to fit 100 Radial Basis Functions (RBF). After generating the feature vector, the Monte Carlo algorithm tunes the weight parameters $w$ to provide the optimal policy. We also tested with polynomial functions; however, it has not provided good results."
   ]
  },
  {
   "cell_type": "code",
   "execution_count": 3,
   "metadata": {},
   "outputs": [
    {
     "name": "stdout",
     "output_type": "stream",
     "text": [
      "     alpha  gamma  episodes  Total G Train  win/loss (%)  elapsed time (s)\n",
      "0   0.1000    1.0    1000.0     300.000000           0.0         49.508371\n",
      "1   0.1000    0.9    1000.0      19.888917           0.0         59.191149\n",
      "2   0.1000    0.1    1000.0       2.222222           0.0         51.580888\n",
      "3   0.1000    1.0   10000.0    3078.000000           0.0        270.099568\n",
      "4   0.1000    0.9   10000.0      29.204394           0.0        475.712027\n",
      "5   0.1000    0.1   10000.0      40.000000           0.0        317.500569\n",
      "6   0.0010    1.0    1000.0     611.000000           0.0         46.107639\n",
      "7   0.0010    0.9    1000.0    2947.104776          72.0         11.482836\n",
      "8   0.0010    0.1    1000.0       1.111111           0.0         18.122408\n",
      "9   0.0010    1.0   10000.0  103078.000000          73.0        372.078912\n",
      "10  0.0010    0.9   10000.0    8895.816157           0.0        334.688774\n",
      "11  0.0010    0.1   10000.0     316.666667           2.0        571.102372\n",
      "12  0.0005    1.0    1000.0    1323.000000           0.0         24.621248\n",
      "13  0.0005    0.9    1000.0    2965.336834          70.0         13.088003\n",
      "14  0.0005    0.1    1000.0       2.222222           0.0         19.909813\n",
      "15  0.0005    1.0   10000.0  127258.000000           0.0        381.075251\n",
      "16  0.0005    0.9   10000.0   26841.964120          70.0         93.439754\n",
      "17  0.0005    0.1   10000.0     112.222222           0.0        384.140039\n"
     ]
    }
   ],
   "source": [
    "grid_search_approximator(stochastic=False)"
   ]
  },
  {
   "cell_type": "code",
   "execution_count": 4,
   "metadata": {},
   "outputs": [
    {
     "data": {
      "image/png": "[encoded data removed]",
      "text/plain": [
       "<Figure size 432x288 with 1 Axes>"
      ]
     },
     "metadata": {
      "needs_background": "light"
     },
     "output_type": "display_data"
    }
   ],
   "source": [
    "Q, env = train_approximator(stochastic=False, episodes=10000, gamma=1, alpha=0.001)"
   ]
  },
  {
   "cell_type": "code",
   "execution_count": 6,
   "metadata": {},
   "outputs": [
    {
     "name": "stdout",
     "output_type": "stream",
     "text": [
      "  (Down)\n",
      "SFFFFFFF\n",
      "FFFFFFFF\n",
      "FFFHFFFF\n",
      "FFFFFHFF\n",
      "FFFHFFFF\n",
      "FHHFFFHF\n",
      "FHFFHFHF\n",
      "FFFHFFF\u001b[41mG\u001b[0m\n"
     ]
    }
   ],
   "source": [
    "env.render()"
   ]
  },
  {
   "cell_type": "code",
   "execution_count": 7,
   "metadata": {},
   "outputs": [
    {
     "name": "stdout",
     "output_type": "stream",
     "text": [
      "\n",
      "\t\t State Value\n",
      "------------------------------------------------\n",
      " 0.6213| 0.6275| 0.6318| 0.6339| 0.6339| 0.6318| 0.6276| 0.6215|\n",
      "------------------------------------------------\n",
      " 0.6135| 0.6120| 0.6171| 0.6197| 0.6201| 0.6184| 0.6150| 0.6102|\n",
      "------------------------------------------------\n",
      " 0.6044| 0.5979| 0.5912| 0.5847| 0.5788| 0.5740| 0.5706| 0.5690|\n",
      "------------------------------------------------\n",
      " 0.5695| 0.5723| 0.5776| 0.5854| 0.5959| 0.6089| 0.6244| 0.6421|\n",
      "------------------------------------------------\n",
      " 0.6617| 0.6828| 0.7052| 0.7282| 0.7514| 0.7743| 0.7963| 0.8168|\n",
      "------------------------------------------------\n",
      " 0.8354| 0.8515| 0.8646| 0.8743| 0.8803| 0.8822| 0.8798| 0.8729|\n",
      "------------------------------------------------\n",
      " 0.8616| 0.8459| 0.8257| 0.8015| 0.7733| 0.7417| 0.7069| 0.6694|\n",
      "------------------------------------------------\n",
      " 0.6298| 0.5885| 0.5461| 0.5032| 0.4603| 0.4179| 0.3766| 0.3367|\n",
      "------------------------------------------------\n"
     ]
    }
   ],
   "source": [
    "print_state_values_approximator(env, Q)"
   ]
  },
  {
   "cell_type": "code",
   "execution_count": 8,
   "metadata": {},
   "outputs": [
    {
     "name": "stdout",
     "output_type": "stream",
     "text": [
      "\n",
      "\t\t Policy/Actions\n",
      "------------------------------------------------\n",
      "  r  |  r  |  r  |  r  |  r  |  r  |  r  |  r  |\n",
      "------------------------------------------------\n",
      "  r  |  s  |  s  |  s  |  s  |  s  |  s  |  s  |\n",
      "------------------------------------------------\n",
      "  s  |  s  |  s  |  s  |  s  |  s  |  s  |  s  |\n",
      "------------------------------------------------\n",
      "  s  |  s  |  s  |  s  |  s  |  s  |  s  |  s  |\n",
      "------------------------------------------------\n",
      "  s  |  s  |  s  |  s  |  s  |  s  |  s  |  s  |\n",
      "------------------------------------------------\n",
      "  s  |  s  |  s  |  s  |  s  |  s  |  s  |  s  |\n",
      "------------------------------------------------\n",
      "  s  |  s  |  s  |  s  |  s  |  s  |  s  |  s  |\n",
      "------------------------------------------------\n",
      "  s  |  s  |  s  |  s  |  s  |  s  |  s  |  s  |\n",
      "------------------------------------------------\n"
     ]
    }
   ],
   "source": [
    "print_policy_approximator(env, Q)"
   ]
  },
  {
   "cell_type": "markdown",
   "metadata": {},
   "source": [
    "The Monte Carlo Control with Linear Function Approximation (LFA) was able to provide a reasonable policy. Observing the $V_*$ plot shows that the agent had much more exploration than the tabular version. Also, the state value seems compatible with the desired behavior; the LFA could generalize well."
   ]
  },
  {
   "cell_type": "markdown",
   "metadata": {},
   "source": [
    "### 2.4)  Linear Function Approximation & Stochastic"
   ]
  },
  {
   "cell_type": "code",
   "execution_count": 3,
   "metadata": {},
   "outputs": [
    {
     "name": "stdout",
     "output_type": "stream",
     "text": [
      "     alpha  gamma  episodes  Total G Train  win/loss (%)  elapsed time (s)\n",
      "0   0.1000    1.0    1000.0       0.000000           2.0         15.628738\n",
      "1   0.1000    0.9    1000.0       0.000000           2.0         16.569825\n",
      "2   0.1000    0.1    1000.0       0.000000           2.0         17.136073\n",
      "3   0.1000    1.0   10000.0    2876.000000           0.0        203.815463\n",
      "4   0.1000    0.9   10000.0     247.776004           0.0        227.564358\n",
      "5   0.1000    0.1   10000.0       5.555556           0.0        178.699472\n",
      "6   0.0010    1.0    1000.0       0.000000           2.0         18.277237\n",
      "7   0.0010    0.9    1000.0       0.000000           2.0         17.408239\n",
      "8   0.0010    0.1    1000.0       0.000000           2.0         17.450194\n",
      "9   0.0010    1.0   10000.0   11559.000000          19.0        238.263867\n",
      "10  0.0010    0.9   10000.0     488.041244           0.0        279.181421\n",
      "11  0.0010    0.1   10000.0      13.333333           0.0        220.919253\n",
      "12  0.0005    1.0    1000.0       0.000000           2.0         17.302472\n",
      "13  0.0005    0.9    1000.0       0.000000           2.0         17.275414\n",
      "14  0.0005    0.1    1000.0       0.000000           2.0         18.825377\n",
      "15  0.0005    1.0   10000.0   18401.000000           0.0        263.110189\n",
      "16  0.0005    0.9   10000.0     414.828290           0.0        178.003036\n",
      "17  0.0005    0.1   10000.0      52.222222           0.0        160.271850\n"
     ]
    }
   ],
   "source": [
    "grid_search_approximator(stochastic=True)"
   ]
  },
  {
   "cell_type": "code",
   "execution_count": 4,
   "metadata": {},
   "outputs": [
    {
     "data": {
      "image/png": "[encoded data removed]",
      "text/plain": [
       "<Figure size 432x288 with 1 Axes>"
      ]
     },
     "metadata": {
      "needs_background": "light"
     },
     "output_type": "display_data"
    }
   ],
   "source": [
    "Q, env = train_approximator(stochastic=True, episodes=10000, alpha=0.001, gamma=1)"
   ]
  },
  {
   "cell_type": "code",
   "execution_count": 5,
   "metadata": {},
   "outputs": [
    {
     "name": "stdout",
     "output_type": "stream",
     "text": [
      "  (Left)\n",
      "SFFFFFFF\n",
      "FFFFFFFF\n",
      "FFFHFFFF\n",
      "FFFFFHFF\n",
      "FFFHFFFF\n",
      "F\u001b[41mH\u001b[0mHFFFHF\n",
      "FHFFHFHF\n",
      "FFFHFFFG\n"
     ]
    }
   ],
   "source": [
    "env.render()"
   ]
  },
  {
   "cell_type": "code",
   "execution_count": 7,
   "metadata": {},
   "outputs": [
    {
     "name": "stdout",
     "output_type": "stream",
     "text": [
      "\n",
      "\t\t State Value\n",
      "------------------------------------------------\n",
      " 0.0009| 0.0007| 0.0007| 0.0007| 0.0008| 0.0014| 0.0018| 0.0020|\n",
      "------------------------------------------------\n",
      " 0.0021| 0.0019| 0.0017| 0.0014| 0.0013| 0.0011| 0.0009| 0.0005|\n",
      "------------------------------------------------\n",
      " 0.0002|-0.0003|-0.0007|-0.0012|-0.0017|-0.0021|-0.0025|-0.0028|\n",
      "------------------------------------------------\n",
      "-0.0031|-0.0032|-0.0032|-0.0031|-0.0029|-0.0025|-0.0020|-0.0014|\n",
      "------------------------------------------------\n",
      "-0.0006| 0.0002| 0.0012| 0.0023| 0.0034| 0.0045| 0.0057| 0.0069|\n",
      "------------------------------------------------\n",
      " 0.0080| 0.0095| 0.0115| 0.0132| 0.0146| 0.0157| 0.0166| 0.0189|\n",
      "------------------------------------------------\n",
      " 0.0209| 0.0225| 0.0238| 0.0247| 0.0252| 0.0253| 0.0251| 0.0246|\n",
      "------------------------------------------------\n",
      " 0.0238| 0.0234| 0.0230| 0.0225| 0.0219| 0.0211| 0.0204| 0.0195|\n",
      "------------------------------------------------\n"
     ]
    }
   ],
   "source": [
    "print_state_values_approximator(env, Q)"
   ]
  },
  {
   "cell_type": "code",
   "execution_count": 8,
   "metadata": {},
   "outputs": [
    {
     "name": "stdout",
     "output_type": "stream",
     "text": [
      "\n",
      "\t\t Policy/Actions\n",
      "------------------------------------------------\n",
      "  l  |  l  |  l  |  l  |  l  |  n  |  n  |  n  |\n",
      "------------------------------------------------\n",
      "  r  |  r  |  s  |  l  |  l  |  l  |  l  |  l  |\n",
      "------------------------------------------------\n",
      "  l  |  l  |  l  |  l  |  l  |  l  |  l  |  l  |\n",
      "------------------------------------------------\n",
      "  l  |  l  |  l  |  l  |  l  |  l  |  l  |  l  |\n",
      "------------------------------------------------\n",
      "  l  |  l  |  l  |  l  |  l  |  l  |  l  |  l  |\n",
      "------------------------------------------------\n",
      "  l  |  n  |  n  |  n  |  n  |  n  |  r  |  r  |\n",
      "------------------------------------------------\n",
      "  r  |  r  |  r  |  r  |  r  |  r  |  r  |  r  |\n",
      "------------------------------------------------\n",
      "  r  |  s  |  s  |  s  |  s  |  s  |  s  |  s  |\n",
      "------------------------------------------------\n"
     ]
    }
   ],
   "source": [
    "print_policy_approximator(env, Q)"
   ]
  },
  {
   "cell_type": "markdown",
   "metadata": {},
   "source": [
    "### 2.5) Monte Carlo Final Comments"
   ]
  },
  {
   "cell_type": "markdown",
   "metadata": {},
   "source": [
    "## 3) Q-learning"
   ]
  },
  {
   "cell_type": "markdown",
   "metadata": {},
   "source": [
    "## 4) SARSA(λ)"
   ]
  },
  {
   "cell_type": "code",
   "execution_count": null,
   "metadata": {},
   "outputs": [],
   "source": []
  }
 ],
 "metadata": {
  "interpreter": {
   "hash": "7bc2cd41e953c5fef78842c12ba7691ebdc7ffc6a5d254d7d57cfc6771d550ba"
  },
  "kernelspec": {
   "display_name": "mo436",
   "language": "python",
   "name": "mo436"
  },
  "language_info": {
   "codemirror_mode": {
    "name": "ipython",
    "version": 3
   },
   "file_extension": ".py",
   "mimetype": "text/x-python",
   "name": "python",
   "nbconvert_exporter": "python",
   "pygments_lexer": "ipython3",
   "version": "3.9.7"
  }
 },
 "nbformat": 4,
 "nbformat_minor": 2
}
